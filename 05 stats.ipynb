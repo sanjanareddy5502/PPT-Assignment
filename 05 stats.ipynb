{
 "cells": [
  {
   "cell_type": "code",
   "execution_count": 1,
   "id": "1e1b9e2c-927a-41e4-9c00-6fa64538e106",
   "metadata": {},
   "outputs": [
    {
     "name": "stdout",
     "output_type": "stream",
     "text": [
      "The probability that a randomly selected late taxi belongs to Company A is: 0.67\n"
     ]
    }
   ],
   "source": [
    "# Given probabilities\n",
    "P_A = 0.8\n",
    "P_B_given_A = 0.05\n",
    "P_B_given_not_A = 0.1\n",
    "\n",
    "# Calculate P(not A)\n",
    "P_not_A = 1 - P_A\n",
    "\n",
    "# Calculate P(B)\n",
    "P_B = P_B_given_A * P_A + P_B_given_not_A * P_not_A\n",
    "\n",
    "# Calculate P(A|B) using Bayes' theorem\n",
    "P_A_given_B = (P_B_given_A * P_A) / P_B\n",
    "\n",
    "# Display the result\n",
    "print(f\"The probability that a randomly selected late taxi belongs to Company A is: {P_A_given_B:.2f}\")"
   ]
  },
  {
   "cell_type": "code",
   "execution_count": null,
   "id": "01166e68-3269-4d0e-b5ba-8b6d9c27dd2e",
   "metadata": {},
   "outputs": [],
   "source": []
  }
 ],
 "metadata": {
  "kernelspec": {
   "display_name": "Python 3 (ipykernel)",
   "language": "python",
   "name": "python3"
  },
  "language_info": {
   "codemirror_mode": {
    "name": "ipython",
    "version": 3
   },
   "file_extension": ".py",
   "mimetype": "text/x-python",
   "name": "python",
   "nbconvert_exporter": "python",
   "pygments_lexer": "ipython3",
   "version": "3.10.6"
  }
 },
 "nbformat": 4,
 "nbformat_minor": 5
}
