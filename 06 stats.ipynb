{
 "cells": [
  {
   "cell_type": "code",
   "execution_count": 12,
   "id": "63cbd0bf-9d9f-489e-9083-0119cd8b8f1b",
   "metadata": {},
   "outputs": [
    {
     "name": "stdout",
     "output_type": "stream",
     "text": [
      "Shapiro-Wilk Test - p-value: 0.0000\n",
      "The blood pressure changes do not follow a normal distribution.\n"
     ]
    }
   ],
   "source": [
    "\n",
    "\n",
    "data = pd.read_csv('data 1.csv')\n",
    "blood_pressure_changes = data\n",
    "# Perform Shapiro-Wilk test for normality\n",
    "statistic, p_value = stats.shapiro(blood_pressure_changes)\n",
    "\n",
    "alpha = 0.05  # Set the significance level\n",
    "\n",
    "print(f\"Shapiro-Wilk Test - p-value: {p_value:.4f}\")\n",
    "\n",
    "if p_value > alpha:\n",
    "    print(\"The blood pressure changes follow a normal distribution.\")\n",
    "else:\n",
    "    print(\"The blood pressure changes do not follow a normal distribution.\")"
   ]
  },
  {
   "cell_type": "code",
   "execution_count": null,
   "id": "09addcc6-79eb-4a64-90d6-40645285c62a",
   "metadata": {},
   "outputs": [],
   "source": []
  }
 ],
 "metadata": {
  "kernelspec": {
   "display_name": "Python 3 (ipykernel)",
   "language": "python",
   "name": "python3"
  },
  "language_info": {
   "codemirror_mode": {
    "name": "ipython",
    "version": 3
   },
   "file_extension": ".py",
   "mimetype": "text/x-python",
   "name": "python",
   "nbconvert_exporter": "python",
   "pygments_lexer": "ipython3",
   "version": "3.10.6"
  }
 },
 "nbformat": 4,
 "nbformat_minor": 5
}
