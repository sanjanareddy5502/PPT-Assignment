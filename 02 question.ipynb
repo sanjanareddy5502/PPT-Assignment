{
 "cells": [
  {
   "cell_type": "code",
   "execution_count": null,
   "id": "2315f736-95d8-49d0-b864-de675c3efa3f",
   "metadata": {},
   "outputs": [],
   "source": [
    "from collections import Counter\n",
    "\n",
    "def is_valid_string(s):\n",
    "    # Count the frequency of each character in the string\n",
    "    char_frequency = Counter(s)\n",
    "\n",
    "    # Count the frequency of frequencies\n",
    "    frequency_frequency = Counter(char_frequency.values())\n",
    "\n",
    "    # If there is only one unique frequency, the string is valid\n",
    "    if len(frequency_frequency) == 1:\n",
    "        return \"YES\"\n",
    "\n",
    "    # If there are exactly two unique frequencies and one frequency has a count of 1, the string is valid\n",
    "    if len(frequency_frequency) == 2 and (1 in frequency_frequency.values() and frequency_frequency[1] == 1):\n",
    "        return \"YES\"\n",
    "\n",
    "    return \"NO\"\n",
    "\n",
    "# Test case 1\n",
    "s = \"abc\"\n",
    "print(is_valid_string(s))  # Output: YES\n",
    "\n",
    "# Test case 2\n",
    "s = \"abcc\"\n",
    "print(is_valid_string(s))  # Output: NO\n",
    "\n",
    "# Test case 3\n",
    "s = \"aabbcc\"\n",
    "print(is_valid_string(s))  # Output: YES\n",
    "\n",
    "# Test case 4\n",
    "s = \"aabbccc\"\n",
    "print(is_valid_string(s))  # Output: YES\n",
    "\n",
    "## The is_valid_string function takes a string s as input.\n",
    "## The frequency of each character in the string is counted using the Counter class from the collections module. The result is stored in the char_frequency dictionary, where the keys are characters and the values are their frequencies.\n",
    "## The frequency of frequencies is counted by applying Counter on the values of char_frequency. The result is stored in the frequency_frequency dictionary, where the keys are the unique frequencies and the values are their counts.\n",
    "## If there is only one unique frequency (i.e., len(frequency_frequency) == 1), it means all characters have the same frequency, and the string is valid. In this case, \"YES\" is returned.\n",
    "## If there are exactly two unique frequencies (i.e., len(frequency_frequency) == 2), the string can be valid if one of the frequencies has a count of 1. This means that one character occurs only once in the string, and removing it will make all the remaining characters have the same frequency. In this case, \"YES\" is returned.\n",
    "## If none of the above conditions are met, the string is not valid, and \"NO\" is returned."
   ]
  }
 ],
 "metadata": {
  "kernelspec": {
   "display_name": "Python 3 (ipykernel)",
   "language": "python",
   "name": "python3"
  },
  "language_info": {
   "codemirror_mode": {
    "name": "ipython",
    "version": 3
   },
   "file_extension": ".py",
   "mimetype": "text/x-python",
   "name": "python",
   "nbconvert_exporter": "python",
   "pygments_lexer": "ipython3",
   "version": "3.10.6"
  }
 },
 "nbformat": 4,
 "nbformat_minor": 5
}
