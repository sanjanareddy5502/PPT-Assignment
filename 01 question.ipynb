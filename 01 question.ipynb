{
 "cells": [
  {
   "cell_type": "code",
   "execution_count": null,
   "id": "1d2ffd32-aa10-46a1-a818-d8ac6b058f96",
   "metadata": {},
   "outputs": [],
   "source": [
    "## frequency of each word in a string and returns the length of the highest-frequency word\n",
    "def find_highest_frequency_word_length(string):\n",
    "    words = string.split()\n",
    "    word_frequency = {}\n",
    "\n",
    "    for word in words:\n",
    "        if word in word_frequency:\n",
    "            word_frequency[word] += 1\n",
    "        else:\n",
    "            word_frequency[word] = 1\n",
    "\n",
    "    max_frequency = max(word_frequency.values())\n",
    "    highest_frequency_words = [word for word, frequency in word_frequency.items() if frequency == max_frequency]\n",
    "\n",
    "    return len(highest_frequency_words[0])\n",
    "\n",
    "# Test case 1\n",
    "string = \"write write write all the number from from from 1 to 100\"\n",
    "print(find_highest_frequency_word_length(string))  # Output: 5\n",
    "\n",
    "# Test case 2\n",
    "string = \"the quick brown fox jumps over the lazy dog\"\n",
    "print(find_highest_frequency_word_length(string))  # Output: 3\n",
    "\n",
    "# Test case 3\n",
    "string = \"hello world hello world hello world\"\n",
    "print(find_highest_frequency_word_length(string))  # Output: 5\n",
    "\n",
    "## The find_highest_frequency_word_length function takes a string as input.\n",
    "## The string is split into individual words using the split() method, and the words are stored in the words list.\n",
    "## A dictionary word_frequency is initialized to store the frequency of each word.\n",
    "### We iterate over each word in the words list. If the word is already present in the word_frequency dictionary, we increment its frequency. Otherwise, we add the word to the dictionary with an initial frequency of 1.\n",
    "## After counting the frequencies, we find the maximum frequency using the max() function on the dictionary values.\n",
    "## We create a list highest_frequency_words that contains all the words with the maximum frequency.\n",
    "## Finally, we return the length of the first word in the highest_frequency_words list."
   ]
  }
 ],
 "metadata": {
  "kernelspec": {
   "display_name": "Python 3 (ipykernel)",
   "language": "python",
   "name": "python3"
  },
  "language_info": {
   "codemirror_mode": {
    "name": "ipython",
    "version": 3
   },
   "file_extension": ".py",
   "mimetype": "text/x-python",
   "name": "python",
   "nbconvert_exporter": "python",
   "pygments_lexer": "ipython3",
   "version": "3.10.6"
  }
 },
 "nbformat": 4,
 "nbformat_minor": 5
}
