{
 "cells": [
  {
   "cell_type": "code",
   "execution_count": 1,
   "id": "0221ca5a-94b3-47fa-a4dd-3f59b417c072",
   "metadata": {},
   "outputs": [
    {
     "name": "stdout",
     "output_type": "stream",
     "text": [
      "Fail to reject the null hypothesis.\n",
      "There is no significant difference in the mean improvement scores between Group A and Group B.\n"
     ]
    }
   ],
   "source": [
    "from spicy import stats\n",
    "# Define the sample statistics for Group A\n",
    "mean_a = 2.5\n",
    "std_a = 0.8\n",
    "n_a = 30\n",
    "\n",
    "# Define the sample statistics for Group B\n",
    "mean_b = 2.2\n",
    "std_b = 0.6\n",
    "n_b = 30\n",
    "\n",
    "# Calculate the t-statistic and p-value for the two-sample independent t-test\n",
    "t_statistic, p_value = stats.ttest_ind_from_stats(mean_a, std_a, n_a, mean_b, std_b, n_b)\n",
    "\n",
    "# Compare the p-value to the significance level\n",
    "alpha = 0.05\n",
    "\n",
    "if p_value < alpha:\n",
    "    print(\"Reject the null hypothesis.\")\n",
    "    print(\"There is a significant difference in the mean improvement scores between Group A and Group B.\")\n",
    "else:\n",
    "    print(\"Fail to reject the null hypothesis.\")\n",
    "    print(\"There is no significant difference in the mean improvement scores between Group A and Group B.\")"
   ]
  },
  {
   "cell_type": "code",
   "execution_count": null,
   "id": "c49ff8d5-8b7e-4c4d-979c-1c2c3ab1dca2",
   "metadata": {},
   "outputs": [],
   "source": []
  }
 ],
 "metadata": {
  "kernelspec": {
   "display_name": "Python 3 (ipykernel)",
   "language": "python",
   "name": "python3"
  },
  "language_info": {
   "codemirror_mode": {
    "name": "ipython",
    "version": 3
   },
   "file_extension": ".py",
   "mimetype": "text/x-python",
   "name": "python",
   "nbconvert_exporter": "python",
   "pygments_lexer": "ipython3",
   "version": "3.10.6"
  }
 },
 "nbformat": 4,
 "nbformat_minor": 5
}
