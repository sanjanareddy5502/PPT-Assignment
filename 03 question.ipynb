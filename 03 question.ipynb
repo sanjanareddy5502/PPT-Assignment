{
 "cells": [
  {
   "cell_type": "code",
   "execution_count": null,
   "id": "34cb6443-b8a6-4f21-b0d3-6622cfaecc6d",
   "metadata": {},
   "outputs": [],
   "source": [
    "import requests\n",
    "import pandas as pd\n",
    "import json\n",
    "\n",
    "def download_and_convert_data(url, output_file):\n",
    "    # Download the data from the provided link\n",
    "    response = requests.get(url)\n",
    "    data = response.json()\n",
    "\n",
    "    # Extract relevant attributes from the data\n",
    "    attributes = ['id', 'num', 'name', 'img', 'type', 'height', 'weight', 'candy', 'candy_count',\n",
    "                  'egg', 'spawn_chance', 'avg_spawns', 'spawn_time', 'multipliers', 'weaknesses',\n",
    "                  'next_evolution', 'prev_evolution']\n",
    "\n",
    "    pokemon_data = []\n",
    "    for pokemon in data['pokemon']:\n",
    "        pokemon_info = {attr: pokemon.get(attr) for attr in attributes}\n",
    "        pokemon_data.append(pokemon_info)\n",
    "\n",
    "    # Create a DataFrame from the extracted data\n",
    "    df = pd.DataFrame(pokemon_data)\n",
    "\n",
    "    # Save the DataFrame to Excel format\n",
    "    df.to_excel(output_file, index=False)\n",
    "\n",
    "    print(\"Data conversion completed. Output file:\", output_file)\n",
    "\n",
    "# Provide the URL of the data file to download\n",
    "url = 'https://raw.githubusercontent.com/Biuni/PokemonGO-Pokedex/master/pokedex.json'\n",
    "\n",
    "# Provide the desired output file path (including the .xlsx extension)\n",
    "output_file = 'pokedex.xlsx'\n",
    "\n",
    "# Call the function to download and convert the data\n",
    "download_and_convert_data(url, output_file)"
   ]
  }
 ],
 "metadata": {
  "kernelspec": {
   "display_name": "Python 3 (ipykernel)",
   "language": "python",
   "name": "python3"
  },
  "language_info": {
   "codemirror_mode": {
    "name": "ipython",
    "version": 3
   },
   "file_extension": ".py",
   "mimetype": "text/x-python",
   "name": "python",
   "nbconvert_exporter": "python",
   "pygments_lexer": "ipython3",
   "version": "3.10.6"
  }
 },
 "nbformat": 4,
 "nbformat_minor": 5
}
