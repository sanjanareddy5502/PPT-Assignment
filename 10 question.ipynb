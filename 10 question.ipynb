{
 "cells": [
  {
   "cell_type": "code",
   "execution_count": 5,
   "id": "c8c8d0dd-5e3e-4f6e-99a6-f83f965ebd08",
   "metadata": {},
   "outputs": [
    {
     "name": "stdout",
     "output_type": "stream",
     "text": [
      "defaultdict(<class 'int'>, {'adjectives': 2, 'nouns': 3, 'verbs': 1})\n",
      "defaultdict(<class 'int'>, {'pronouns': 1, 'verbs': 2, 'nouns': 1})\n",
      "defaultdict(<class 'int'>, {'pronouns': 1, 'verbs': 2, 'adjectives': 1, 'nouns': 1})\n"
     ]
    },
    {
     "name": "stderr",
     "output_type": "stream",
     "text": [
      "[nltk_data] Downloading package punkt to /home/jovyan/nltk_data...\n",
      "[nltk_data]   Package punkt is already up-to-date!\n",
      "[nltk_data] Downloading package averaged_perceptron_tagger to\n",
      "[nltk_data]     /home/jovyan/nltk_data...\n",
      "[nltk_data]   Package averaged_perceptron_tagger is already up-to-\n",
      "[nltk_data]       date!\n"
     ]
    }
   ],
   "source": [
    "import nltk\n",
    "nltk.download('punkt')\n",
    "nltk.download('averaged_perceptron_tagger')\n",
    "from nltk import word_tokenize, pos_tag\n",
    "from collections import defaultdict\n",
    "\n",
    "def count_pos_tags(text):\n",
    "    # Tokenize the text into words\n",
    "    words = word_tokenize(text)\n",
    "    \n",
    "    # Perform part-of-speech tagging\n",
    "    pos_tags = pos_tag(words)\n",
    "    \n",
    "    # Initialize counts dictionary\n",
    "    counts = defaultdict(int)\n",
    "    \n",
    "    # Count the number of verbs, nouns, pronouns, and adjectives\n",
    "    for word, tag in pos_tags:\n",
    "        if tag.startswith('VB'):  # Verb\n",
    "            counts['verbs'] += 1\n",
    "        elif tag.startswith('NN'):  # Noun\n",
    "            counts['nouns'] += 1\n",
    "        elif tag.startswith('PR'):  # Pronoun\n",
    "            counts['pronouns'] += 1\n",
    "        elif tag.startswith('JJ'):  # Adjective\n",
    "            counts['adjectives'] += 1\n",
    "    \n",
    "    return counts\n",
    "\n",
    "# Test the function with a sample sentence\n",
    "sentence = \"The quick brown fox jumps over the lazy dog.\"\n",
    "counts = count_pos_tags(sentence)\n",
    "print(counts)\n",
    "\n",
    "# Additional test cases\n",
    "# Test case 1\n",
    "text1 = \"I like to eat pizza.\"\n",
    "counts1 = count_pos_tags(text1)\n",
    "print(counts1)\n",
    "\n",
    "# Test case 2\n",
    "text2 = \"She is reading an interesting book.\"\n",
    "counts2 = count_pos_tags(text2)\n",
    "print(counts2)\n"
   ]
  },
  {
   "cell_type": "code",
   "execution_count": 2,
   "id": "ebfb28c6-81b1-41f4-a7ac-055d980f437d",
   "metadata": {},
   "outputs": [
    {
     "name": "stdout",
     "output_type": "stream",
     "text": [
      "Collecting nltk\n",
      "  Downloading nltk-3.8.1-py3-none-any.whl (1.5 MB)\n",
      "\u001b[2K     \u001b[90m━━━━━━━━━━━━━━━━━━━━━━━━━━━━━━━━━━━━━━━━\u001b[0m \u001b[32m1.5/1.5 MB\u001b[0m \u001b[31m62.1 MB/s\u001b[0m eta \u001b[36m0:00:00\u001b[0m\n",
      "\u001b[?25hRequirement already satisfied: joblib in /opt/conda/lib/python3.10/site-packages (from nltk) (1.2.0)\n",
      "Requirement already satisfied: tqdm in /opt/conda/lib/python3.10/site-packages (from nltk) (4.64.1)\n",
      "Requirement already satisfied: click in /opt/conda/lib/python3.10/site-packages (from nltk) (8.1.3)\n",
      "Collecting regex>=2021.8.3\n",
      "  Downloading regex-2023.5.5-cp310-cp310-manylinux_2_17_x86_64.manylinux2014_x86_64.whl (769 kB)\n",
      "\u001b[2K     \u001b[90m━━━━━━━━━━━━━━━━━━━━━━━━━━━━━━━━━━━━━━\u001b[0m \u001b[32m769.7/769.7 kB\u001b[0m \u001b[31m59.4 MB/s\u001b[0m eta \u001b[36m0:00:00\u001b[0m\n",
      "\u001b[?25hInstalling collected packages: regex, nltk\n",
      "Successfully installed nltk-3.8.1 regex-2023.5.5\n",
      "Note: you may need to restart the kernel to use updated packages.\n"
     ]
    }
   ],
   "source": [
    "pip install nltk\n"
   ]
  },
  {
   "cell_type": "code",
   "execution_count": null,
   "id": "82580703-eb9f-4efc-b0fc-fc7a2e371e08",
   "metadata": {},
   "outputs": [],
   "source": []
  }
 ],
 "metadata": {
  "kernelspec": {
   "display_name": "Python 3 (ipykernel)",
   "language": "python",
   "name": "python3"
  },
  "language_info": {
   "codemirror_mode": {
    "name": "ipython",
    "version": 3
   },
   "file_extension": ".py",
   "mimetype": "text/x-python",
   "name": "python",
   "nbconvert_exporter": "python",
   "pygments_lexer": "ipython3",
   "version": "3.10.6"
  }
 },
 "nbformat": 4,
 "nbformat_minor": 5
}
