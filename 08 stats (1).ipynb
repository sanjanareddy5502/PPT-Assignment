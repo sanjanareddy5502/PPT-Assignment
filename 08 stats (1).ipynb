{
 "cells": [
  {
   "cell_type": "code",
   "execution_count": 2,
   "id": "ed286348-6abb-48de-a9f1-4b0c7886871c",
   "metadata": {},
   "outputs": [
    {
     "name": "stdout",
     "output_type": "stream",
     "text": [
      "The therapy had a significant effect on anxiety levels.\n"
     ]
    }
   ],
   "source": [
    "from scipy import stats\n",
    "before_therapy = [10,8,12,15,6,9,11,7,14,10]  # List of anxiety levels before therapy\n",
    "after_therapy = [7,6,10,12,5,8,9,6,12,8]  # List of anxiety levels after therapy\n",
    "statistic, p_value = stats.wilcoxon(before_therapy, after_therapy)\n",
    "alpha = 0.05\n",
    "\n",
    "if p_value < alpha:\n",
    "    print(\"The therapy had a significant effect on anxiety levels.\")\n",
    "else:\n",
    "    print(\"There was no significant effect of the therapy on anxiety levels.\")"
   ]
  },
  {
   "cell_type": "code",
   "execution_count": null,
   "id": "401287aa-5c97-4df0-8616-965287a3a626",
   "metadata": {},
   "outputs": [],
   "source": []
  }
 ],
 "metadata": {
  "kernelspec": {
   "display_name": "Python 3 (ipykernel)",
   "language": "python",
   "name": "python3"
  },
  "language_info": {
   "codemirror_mode": {
    "name": "ipython",
    "version": 3
   },
   "file_extension": ".py",
   "mimetype": "text/x-python",
   "name": "python",
   "nbconvert_exporter": "python",
   "pygments_lexer": "ipython3",
   "version": "3.10.6"
  }
 },
 "nbformat": 4,
 "nbformat_minor": 5
}
